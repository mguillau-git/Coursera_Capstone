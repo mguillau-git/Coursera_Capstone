{
 "cells": [
  {
   "cell_type": "markdown",
   "metadata": {},
   "source": [
    "# Segmenting and Clustering Neighborhoods in Toronto Part 1 to 3\n"
   ]
  },
  {
   "cell_type": "markdown",
   "metadata": {},
   "source": [
    "The first part of this notebook handle the first problem of the final Assigment \"Segmenting and Clustering Neighborhoods in Toronto\".\n",
    "\n",
    "The problem constists in building a code to scrape the following Wikipedia page, https://en.wikipedia.org/wiki/List_of_postal_codes_of_Canada:_M, in order to transform the data in the table of postal codes into a pandas dataframe and then clean the data following this guidelines: \n",
    "\n",
    "* Only process the cells that have an assigned borough. Ignore cells with a borough that is Not assigned.\n",
    "* More than one neighborhood can exist in one postal code area. For example, in the table on the Wikipedia page, you will notice that - M5A is listed twice and has two neighborhoods: Harbourfront and Regent Park. These two rows will be combined into one row with the - neighborhoods separated with a comma as shown in row 11 in the above table.\n",
    "* If a cell has a borough but a Not assigned neighborhood, then the neighborhood will be the same as the borough. So for the 9th cell in the table on the Wikipedia page, the value of the Borough and the Neighborhood columns will be Queen's Park.\n",
    "* Clean your Notebook and add Markdown cells to explain your work and any assumptions you are making.\n",
    "* In the last cell of your notebook, use the .shape method to print the number of rows of your dataframe."
   ]
  },
  {
   "cell_type": "code",
   "execution_count": 2,
   "metadata": {},
   "outputs": [],
   "source": [
    "import requests\n",
    "import pandas as pd\n",
    "from bs4 import BeautifulSoup"
   ]
  },
  {
   "cell_type": "code",
   "execution_count": 3,
   "metadata": {},
   "outputs": [],
   "source": [
    "List_url = \"https://en.wikipedia.org/wiki/List_of_postal_codes_of_Canada:_M\"\n",
    "source = requests.get(List_url).text"
   ]
  },
  {
   "cell_type": "code",
   "execution_count": 4,
   "metadata": {},
   "outputs": [],
   "source": [
    "soup = BeautifulSoup(source, 'xml')\n",
    "table = soup.find('table')"
   ]
  },
  {
   "cell_type": "code",
   "execution_count": 5,
   "metadata": {},
   "outputs": [],
   "source": [
    "#dataframe will consist of three columns: PostalCode, Borough, and Neighborhood\n",
    "column_names = ['Postalcode','Borough','Neighborhood']\n",
    "df = pd.DataFrame(columns = column_names)"
   ]
  },
  {
   "cell_type": "code",
   "execution_count": 6,
   "metadata": {},
   "outputs": [
    {
     "data": {
      "text/html": [
       "<div>\n",
       "<style scoped>\n",
       "    .dataframe tbody tr th:only-of-type {\n",
       "        vertical-align: middle;\n",
       "    }\n",
       "\n",
       "    .dataframe tbody tr th {\n",
       "        vertical-align: top;\n",
       "    }\n",
       "\n",
       "    .dataframe thead th {\n",
       "        text-align: right;\n",
       "    }\n",
       "</style>\n",
       "<table border=\"1\" class=\"dataframe\">\n",
       "  <thead>\n",
       "    <tr style=\"text-align: right;\">\n",
       "      <th></th>\n",
       "      <th>Postalcode</th>\n",
       "      <th>Borough</th>\n",
       "      <th>Neighborhood</th>\n",
       "    </tr>\n",
       "  </thead>\n",
       "  <tbody>\n",
       "    <tr>\n",
       "      <td>0</td>\n",
       "      <td>M1A</td>\n",
       "      <td>Not assigned</td>\n",
       "      <td>Not assigned</td>\n",
       "    </tr>\n",
       "    <tr>\n",
       "      <td>1</td>\n",
       "      <td>M2A</td>\n",
       "      <td>Not assigned</td>\n",
       "      <td>Not assigned</td>\n",
       "    </tr>\n",
       "    <tr>\n",
       "      <td>2</td>\n",
       "      <td>M3A</td>\n",
       "      <td>North York</td>\n",
       "      <td>Parkwoods</td>\n",
       "    </tr>\n",
       "    <tr>\n",
       "      <td>3</td>\n",
       "      <td>M4A</td>\n",
       "      <td>North York</td>\n",
       "      <td>Victoria Village</td>\n",
       "    </tr>\n",
       "    <tr>\n",
       "      <td>4</td>\n",
       "      <td>M5A</td>\n",
       "      <td>Downtown Toronto</td>\n",
       "      <td>Regent Park, Harbourfront</td>\n",
       "    </tr>\n",
       "  </tbody>\n",
       "</table>\n",
       "</div>"
      ],
      "text/plain": [
       "  Postalcode           Borough               Neighborhood\n",
       "0        M1A      Not assigned               Not assigned\n",
       "1        M2A      Not assigned               Not assigned\n",
       "2        M3A        North York                  Parkwoods\n",
       "3        M4A        North York           Victoria Village\n",
       "4        M5A  Downtown Toronto  Regent Park, Harbourfront"
      ]
     },
     "execution_count": 6,
     "metadata": {},
     "output_type": "execute_result"
    }
   ],
   "source": [
    "# Search all the data\n",
    "for tr_cell in table.find_all('tr'):\n",
    "    row_data=[]\n",
    "    for td_cell in tr_cell.find_all('td'):\n",
    "        row_data.append(td_cell.text.strip())\n",
    "    if len(row_data)==3:\n",
    "        df.loc[len(df)] = row_data\n",
    "\n",
    "df.head()"
   ]
  },
  {
   "cell_type": "markdown",
   "metadata": {},
   "source": [
    "## Data cleaning "
   ]
  },
  {
   "cell_type": "code",
   "execution_count": 7,
   "metadata": {},
   "outputs": [
    {
     "data": {
      "text/html": [
       "<div>\n",
       "<style scoped>\n",
       "    .dataframe tbody tr th:only-of-type {\n",
       "        vertical-align: middle;\n",
       "    }\n",
       "\n",
       "    .dataframe tbody tr th {\n",
       "        vertical-align: top;\n",
       "    }\n",
       "\n",
       "    .dataframe thead th {\n",
       "        text-align: right;\n",
       "    }\n",
       "</style>\n",
       "<table border=\"1\" class=\"dataframe\">\n",
       "  <thead>\n",
       "    <tr style=\"text-align: right;\">\n",
       "      <th></th>\n",
       "      <th>Postalcode</th>\n",
       "      <th>Borough</th>\n",
       "      <th>Neighborhood</th>\n",
       "    </tr>\n",
       "  </thead>\n",
       "  <tbody>\n",
       "    <tr>\n",
       "      <td>2</td>\n",
       "      <td>M3A</td>\n",
       "      <td>North York</td>\n",
       "      <td>Parkwoods</td>\n",
       "    </tr>\n",
       "    <tr>\n",
       "      <td>3</td>\n",
       "      <td>M4A</td>\n",
       "      <td>North York</td>\n",
       "      <td>Victoria Village</td>\n",
       "    </tr>\n",
       "    <tr>\n",
       "      <td>4</td>\n",
       "      <td>M5A</td>\n",
       "      <td>Downtown Toronto</td>\n",
       "      <td>Regent Park, Harbourfront</td>\n",
       "    </tr>\n",
       "    <tr>\n",
       "      <td>5</td>\n",
       "      <td>M6A</td>\n",
       "      <td>North York</td>\n",
       "      <td>Lawrence Manor, Lawrence Heights</td>\n",
       "    </tr>\n",
       "    <tr>\n",
       "      <td>6</td>\n",
       "      <td>M7A</td>\n",
       "      <td>Downtown Toronto</td>\n",
       "      <td>Queen's Park, Ontario Provincial Government</td>\n",
       "    </tr>\n",
       "  </tbody>\n",
       "</table>\n",
       "</div>"
      ],
      "text/plain": [
       "  Postalcode           Borough                                 Neighborhood\n",
       "2        M3A        North York                                    Parkwoods\n",
       "3        M4A        North York                             Victoria Village\n",
       "4        M5A  Downtown Toronto                    Regent Park, Harbourfront\n",
       "5        M6A        North York             Lawrence Manor, Lawrence Heights\n",
       "6        M7A  Downtown Toronto  Queen's Park, Ontario Provincial Government"
      ]
     },
     "execution_count": 7,
     "metadata": {},
     "output_type": "execute_result"
    }
   ],
   "source": [
    "# Get index where Borough = Not assigned and Drop the row\n",
    "df.drop(labels = df[df['Borough']=='Not assigned'].index, axis = 0, inplace = True)\n",
    "df.head()"
   ]
  },
  {
   "cell_type": "code",
   "execution_count": 8,
   "metadata": {},
   "outputs": [
    {
     "data": {
      "text/html": [
       "<div>\n",
       "<style scoped>\n",
       "    .dataframe tbody tr th:only-of-type {\n",
       "        vertical-align: middle;\n",
       "    }\n",
       "\n",
       "    .dataframe tbody tr th {\n",
       "        vertical-align: top;\n",
       "    }\n",
       "\n",
       "    .dataframe thead th {\n",
       "        text-align: right;\n",
       "    }\n",
       "</style>\n",
       "<table border=\"1\" class=\"dataframe\">\n",
       "  <thead>\n",
       "    <tr style=\"text-align: right;\">\n",
       "      <th></th>\n",
       "      <th>Postalcode</th>\n",
       "      <th>Borough</th>\n",
       "      <th>Neighborhood</th>\n",
       "    </tr>\n",
       "  </thead>\n",
       "  <tbody>\n",
       "    <tr>\n",
       "      <td>2</td>\n",
       "      <td>M3A</td>\n",
       "      <td>North York</td>\n",
       "      <td>Parkwoods</td>\n",
       "    </tr>\n",
       "    <tr>\n",
       "      <td>3</td>\n",
       "      <td>M4A</td>\n",
       "      <td>North York</td>\n",
       "      <td>Victoria Village</td>\n",
       "    </tr>\n",
       "    <tr>\n",
       "      <td>4</td>\n",
       "      <td>M5A</td>\n",
       "      <td>Downtown Toronto</td>\n",
       "      <td>Regent Park, Harbourfront</td>\n",
       "    </tr>\n",
       "    <tr>\n",
       "      <td>5</td>\n",
       "      <td>M6A</td>\n",
       "      <td>North York</td>\n",
       "      <td>Lawrence Manor, Lawrence Heights</td>\n",
       "    </tr>\n",
       "    <tr>\n",
       "      <td>6</td>\n",
       "      <td>M7A</td>\n",
       "      <td>Downtown Toronto</td>\n",
       "      <td>Queen's Park, Ontario Provincial Government</td>\n",
       "    </tr>\n",
       "  </tbody>\n",
       "</table>\n",
       "</div>"
      ],
      "text/plain": [
       "  Postalcode           Borough                                 Neighborhood\n",
       "2        M3A        North York                                    Parkwoods\n",
       "3        M4A        North York                             Victoria Village\n",
       "4        M5A  Downtown Toronto                    Regent Park, Harbourfront\n",
       "5        M6A        North York             Lawrence Manor, Lawrence Heights\n",
       "6        M7A  Downtown Toronto  Queen's Park, Ontario Provincial Government"
      ]
     },
     "execution_count": 8,
     "metadata": {},
     "output_type": "execute_result"
    }
   ],
   "source": [
    "# Make sure that if a cell has a borough but a 'Not assigned' neighborhood, then the neighborhood will be the same as the borough\n",
    "df.loc[(df.Neighborhood == 'Not assigned'),'Neighborhood']=df['Borough']\n",
    "df.head()"
   ]
  },
  {
   "cell_type": "code",
   "execution_count": 9,
   "metadata": {},
   "outputs": [
    {
     "data": {
      "text/html": [
       "<div>\n",
       "<style scoped>\n",
       "    .dataframe tbody tr th:only-of-type {\n",
       "        vertical-align: middle;\n",
       "    }\n",
       "\n",
       "    .dataframe tbody tr th {\n",
       "        vertical-align: top;\n",
       "    }\n",
       "\n",
       "    .dataframe thead th {\n",
       "        text-align: right;\n",
       "    }\n",
       "</style>\n",
       "<table border=\"1\" class=\"dataframe\">\n",
       "  <thead>\n",
       "    <tr style=\"text-align: right;\">\n",
       "      <th></th>\n",
       "      <th>Postalcode</th>\n",
       "      <th>Borough</th>\n",
       "      <th>Neighborhood</th>\n",
       "    </tr>\n",
       "  </thead>\n",
       "  <tbody>\n",
       "    <tr>\n",
       "      <td>0</td>\n",
       "      <td>M1B</td>\n",
       "      <td>Scarborough</td>\n",
       "      <td>Malvern, Rouge</td>\n",
       "    </tr>\n",
       "    <tr>\n",
       "      <td>1</td>\n",
       "      <td>M1C</td>\n",
       "      <td>Scarborough</td>\n",
       "      <td>Rouge Hill, Port Union, Highland Creek</td>\n",
       "    </tr>\n",
       "    <tr>\n",
       "      <td>2</td>\n",
       "      <td>M1E</td>\n",
       "      <td>Scarborough</td>\n",
       "      <td>Guildwood, Morningside, West Hill</td>\n",
       "    </tr>\n",
       "    <tr>\n",
       "      <td>3</td>\n",
       "      <td>M1G</td>\n",
       "      <td>Scarborough</td>\n",
       "      <td>Woburn</td>\n",
       "    </tr>\n",
       "    <tr>\n",
       "      <td>4</td>\n",
       "      <td>M1H</td>\n",
       "      <td>Scarborough</td>\n",
       "      <td>Cedarbrae</td>\n",
       "    </tr>\n",
       "  </tbody>\n",
       "</table>\n",
       "</div>"
      ],
      "text/plain": [
       "  Postalcode      Borough                            Neighborhood\n",
       "0        M1B  Scarborough                          Malvern, Rouge\n",
       "1        M1C  Scarborough  Rouge Hill, Port Union, Highland Creek\n",
       "2        M1E  Scarborough       Guildwood, Morningside, West Hill\n",
       "3        M1G  Scarborough                                  Woburn\n",
       "4        M1H  Scarborough                               Cedarbrae"
      ]
     },
     "execution_count": 9,
     "metadata": {},
     "output_type": "execute_result"
    }
   ],
   "source": [
    "# Make sure than no more than one neighborhood can exist in one postal code area by groupind them and separate them by a coma\n",
    "df = df.groupby('Postalcode').agg({'Borough' : 'first', 'Neighborhood' : ','.join}).reset_index()\n",
    "df.head()"
   ]
  },
  {
   "cell_type": "code",
   "execution_count": 10,
   "metadata": {},
   "outputs": [
    {
     "name": "stdout",
     "output_type": "stream",
     "text": [
      "False\n"
     ]
    }
   ],
   "source": [
    "# Verify that all Postalcode data are now unique\n",
    "boolean = df['Postalcode'].duplicated().any()\n",
    "print(boolean)"
   ]
  },
  {
   "cell_type": "code",
   "execution_count": 11,
   "metadata": {},
   "outputs": [
    {
     "name": "stdout",
     "output_type": "stream",
     "text": [
      "The final shape of the dataframe is : (103, 3)\n"
     ]
    }
   ],
   "source": [
    "print(\"The final shape of the dataframe is :\", df.shape)"
   ]
  },
  {
   "cell_type": "markdown",
   "metadata": {},
   "source": [
    "## Getting latitude and longitude coordinates "
   ]
  },
  {
   "cell_type": "markdown",
   "metadata": {},
   "source": [
    "The second part of this notebook handle the second problem which consists in creating a new dataframe with  the latitude and the longitude coordinates of each neighborhood. "
   ]
  },
  {
   "cell_type": "code",
   "execution_count": 14,
   "metadata": {},
   "outputs": [],
   "source": [
    "# Create a loop to get the coordinates\n",
    "\n",
    "def get_geocode(postal_code):\n",
    "    # initialize your variable to None\n",
    "    lat_lng_coords = None\n",
    "    while(lat_lng_coords is None):\n",
    "        g = geocoder.google('{}, Toronto, Ontario'.format(postal_code))\n",
    "        lat_lng_coords = g.latlng\n",
    "    latitude = lat_lng_coords[0]\n",
    "    longitude = lat_lng_coords[1]\n",
    "    return latitude,longitude"
   ]
  },
  {
   "cell_type": "code",
   "execution_count": 15,
   "metadata": {
    "scrolled": true
   },
   "outputs": [
    {
     "data": {
      "text/html": [
       "<div>\n",
       "<style scoped>\n",
       "    .dataframe tbody tr th:only-of-type {\n",
       "        vertical-align: middle;\n",
       "    }\n",
       "\n",
       "    .dataframe tbody tr th {\n",
       "        vertical-align: top;\n",
       "    }\n",
       "\n",
       "    .dataframe thead th {\n",
       "        text-align: right;\n",
       "    }\n",
       "</style>\n",
       "<table border=\"1\" class=\"dataframe\">\n",
       "  <thead>\n",
       "    <tr style=\"text-align: right;\">\n",
       "      <th></th>\n",
       "      <th>Postal Code</th>\n",
       "      <th>Latitude</th>\n",
       "      <th>Longitude</th>\n",
       "    </tr>\n",
       "  </thead>\n",
       "  <tbody>\n",
       "    <tr>\n",
       "      <td>0</td>\n",
       "      <td>M1B</td>\n",
       "      <td>43.806686</td>\n",
       "      <td>-79.194353</td>\n",
       "    </tr>\n",
       "    <tr>\n",
       "      <td>1</td>\n",
       "      <td>M1C</td>\n",
       "      <td>43.784535</td>\n",
       "      <td>-79.160497</td>\n",
       "    </tr>\n",
       "    <tr>\n",
       "      <td>2</td>\n",
       "      <td>M1E</td>\n",
       "      <td>43.763573</td>\n",
       "      <td>-79.188711</td>\n",
       "    </tr>\n",
       "    <tr>\n",
       "      <td>3</td>\n",
       "      <td>M1G</td>\n",
       "      <td>43.770992</td>\n",
       "      <td>-79.216917</td>\n",
       "    </tr>\n",
       "    <tr>\n",
       "      <td>4</td>\n",
       "      <td>M1H</td>\n",
       "      <td>43.773136</td>\n",
       "      <td>-79.239476</td>\n",
       "    </tr>\n",
       "  </tbody>\n",
       "</table>\n",
       "</div>"
      ],
      "text/plain": [
       "  Postal Code   Latitude  Longitude\n",
       "0         M1B  43.806686 -79.194353\n",
       "1         M1C  43.784535 -79.160497\n",
       "2         M1E  43.763573 -79.188711\n",
       "3         M1G  43.770992 -79.216917\n",
       "4         M1H  43.773136 -79.239476"
      ]
     },
     "execution_count": 15,
     "metadata": {},
     "output_type": "execute_result"
    }
   ],
   "source": [
    "# Get the dataset that includes latitude and longitude coordinates for each neighborhood \n",
    "df_geo=pd.read_csv('http://cocl.us/Geospatial_data')\n",
    "df_geo.head()"
   ]
  },
  {
   "cell_type": "code",
   "execution_count": 18,
   "metadata": {},
   "outputs": [
    {
     "data": {
      "text/html": [
       "<div>\n",
       "<style scoped>\n",
       "    .dataframe tbody tr th:only-of-type {\n",
       "        vertical-align: middle;\n",
       "    }\n",
       "\n",
       "    .dataframe tbody tr th {\n",
       "        vertical-align: top;\n",
       "    }\n",
       "\n",
       "    .dataframe thead th {\n",
       "        text-align: right;\n",
       "    }\n",
       "</style>\n",
       "<table border=\"1\" class=\"dataframe\">\n",
       "  <thead>\n",
       "    <tr style=\"text-align: right;\">\n",
       "      <th></th>\n",
       "      <th>Postalcode</th>\n",
       "      <th>Borough</th>\n",
       "      <th>Neighborhood</th>\n",
       "      <th>Latitude</th>\n",
       "      <th>Longitude</th>\n",
       "    </tr>\n",
       "  </thead>\n",
       "  <tbody>\n",
       "    <tr>\n",
       "      <td>0</td>\n",
       "      <td>M1B</td>\n",
       "      <td>Scarborough</td>\n",
       "      <td>Malvern, Rouge</td>\n",
       "      <td>43.806686</td>\n",
       "      <td>-79.194353</td>\n",
       "    </tr>\n",
       "    <tr>\n",
       "      <td>1</td>\n",
       "      <td>M1C</td>\n",
       "      <td>Scarborough</td>\n",
       "      <td>Rouge Hill, Port Union, Highland Creek</td>\n",
       "      <td>43.784535</td>\n",
       "      <td>-79.160497</td>\n",
       "    </tr>\n",
       "    <tr>\n",
       "      <td>2</td>\n",
       "      <td>M1E</td>\n",
       "      <td>Scarborough</td>\n",
       "      <td>Guildwood, Morningside, West Hill</td>\n",
       "      <td>43.763573</td>\n",
       "      <td>-79.188711</td>\n",
       "    </tr>\n",
       "    <tr>\n",
       "      <td>3</td>\n",
       "      <td>M1G</td>\n",
       "      <td>Scarborough</td>\n",
       "      <td>Woburn</td>\n",
       "      <td>43.770992</td>\n",
       "      <td>-79.216917</td>\n",
       "    </tr>\n",
       "    <tr>\n",
       "      <td>4</td>\n",
       "      <td>M1H</td>\n",
       "      <td>Scarborough</td>\n",
       "      <td>Cedarbrae</td>\n",
       "      <td>43.773136</td>\n",
       "      <td>-79.239476</td>\n",
       "    </tr>\n",
       "  </tbody>\n",
       "</table>\n",
       "</div>"
      ],
      "text/plain": [
       "  Postalcode      Borough                            Neighborhood   Latitude  \\\n",
       "0        M1B  Scarborough                          Malvern, Rouge  43.806686   \n",
       "1        M1C  Scarborough  Rouge Hill, Port Union, Highland Creek  43.784535   \n",
       "2        M1E  Scarborough       Guildwood, Morningside, West Hill  43.763573   \n",
       "3        M1G  Scarborough                                  Woburn  43.770992   \n",
       "4        M1H  Scarborough                               Cedarbrae  43.773136   \n",
       "\n",
       "   Longitude  \n",
       "0 -79.194353  \n",
       "1 -79.160497  \n",
       "2 -79.188711  \n",
       "3 -79.216917  \n",
       "4 -79.239476  "
      ]
     },
     "execution_count": 18,
     "metadata": {},
     "output_type": "execute_result"
    }
   ],
   "source": [
    "# Merge the dataframe with latitude and longitude coordinates and the previous dataframe\n",
    "df_geo.rename(columns={'Postal Code':'Postalcode'},inplace=True)\n",
    "df_merge = pd.merge(df_geo, df, on='Postalcode')\n",
    "df_tot = df_merge[['Postalcode','Borough','Neighborhood','Latitude','Longitude']]\n",
    "df_tot.head()"
   ]
  },
  {
   "cell_type": "markdown",
   "metadata": {},
   "source": [
    "## Segmenting and Clustering Neighborhoods"
   ]
  },
  {
   "cell_type": "markdown",
   "metadata": {},
   "source": [
    "In the third part of this notebook we will generate a map to visualize our neighborhoods and how they are clustered together. We will then explore each neighborhood and create a dataframe than contains all the venues depicted in each of them."
   ]
  },
  {
   "cell_type": "code",
   "execution_count": 37,
   "metadata": {},
   "outputs": [
    {
     "name": "stdout",
     "output_type": "stream",
     "text": [
      "Requirement already satisfied: folium in c:\\users\\magui\\anaconda3\\lib\\site-packages (0.11.0)\n",
      "Requirement already satisfied: jinja2>=2.9 in c:\\users\\magui\\anaconda3\\lib\\site-packages (from folium) (2.10.3)\n",
      "Requirement already satisfied: branca>=0.3.0 in c:\\users\\magui\\anaconda3\\lib\\site-packages (from folium) (0.4.1)\n",
      "Requirement already satisfied: requests in c:\\users\\magui\\anaconda3\\lib\\site-packages (from folium) (2.22.0)\n",
      "Requirement already satisfied: numpy in c:\\users\\magui\\anaconda3\\lib\\site-packages (from folium) (1.16.5)\n",
      "Requirement already satisfied: MarkupSafe>=0.23 in c:\\users\\magui\\anaconda3\\lib\\site-packages (from jinja2>=2.9->folium) (1.1.1)\n",
      "Requirement already satisfied: chardet<3.1.0,>=3.0.2 in c:\\users\\magui\\anaconda3\\lib\\site-packages (from requests->folium) (3.0.4)\n",
      "Requirement already satisfied: certifi>=2017.4.17 in c:\\users\\magui\\anaconda3\\lib\\site-packages (from requests->folium) (2019.9.11)\n",
      "Requirement already satisfied: urllib3!=1.25.0,!=1.25.1,<1.26,>=1.21.1 in c:\\users\\magui\\anaconda3\\lib\\site-packages (from requests->folium) (1.24.2)\n",
      "Requirement already satisfied: idna<2.9,>=2.5 in c:\\users\\magui\\anaconda3\\lib\\site-packages (from requests->folium) (2.8)\n",
      "Requirement already satisfied: reverse_geocoder in c:\\users\\magui\\anaconda3\\lib\\site-packages (1.5.1)\n",
      "Requirement already satisfied: scipy>=0.17.1 in c:\\users\\magui\\anaconda3\\lib\\site-packages (from reverse_geocoder) (1.3.1)\n",
      "Requirement already satisfied: numpy>=1.11.0 in c:\\users\\magui\\anaconda3\\lib\\site-packages (from reverse_geocoder) (1.16.5)\n",
      "Collecting geopy\n",
      "  Downloading https://files.pythonhosted.org/packages/07/e1/9c72de674d5c2b8fcb0738a5ceeb5424941fefa080bfe4e240d0bacb5a38/geopy-2.0.0-py3-none-any.whl (111kB)\n",
      "Collecting geographiclib<2,>=1.49 (from geopy)\n",
      "  Downloading https://files.pythonhosted.org/packages/8b/62/26ec95a98ba64299163199e95ad1b0e34ad3f4e176e221c40245f211e425/geographiclib-1.50-py3-none-any.whl\n",
      "Installing collected packages: geographiclib, geopy\n",
      "Successfully installed geographiclib-1.50 geopy-2.0.0\n",
      "Libraries imported.\n"
     ]
    }
   ],
   "source": [
    "import pandas as pd # library for data analsysis\n",
    "pd.set_option('display.max_columns', None)\n",
    "pd.set_option('display.max_rows', None)\n",
    "\n",
    "import json # library to handle JSON files\n",
    "\n",
    "#conda config --append channels conda-forge\n",
    "\n",
    "import requests # library to handle requests\n",
    "from pandas.io.json import json_normalize # tranform JSON file into a pandas dataframe\n",
    "\n",
    "# Matplotlib and associated plotting modules\n",
    "import matplotlib.cm as cm\n",
    "import matplotlib.colors as colors\n",
    "\n",
    "# import k-means from clustering stage\n",
    "from sklearn.cluster import KMeans\n",
    "\n",
    "#!conda install -c conda-forge folium=0.5.0 --yes # uncomment this line if you haven't completed the Foursquare API lab\n",
    "!pip install folium\n",
    "import folium # map rendering library\n",
    "\n",
    "import sys\n",
    "!{sys.executable} -m pip install reverse_geocoder\n",
    "!pip install geopy\n",
    "from geopy.geocoders import Nominatim # convert an address into latitude and longitude values\n",
    "\n",
    "print('Libraries imported.')"
   ]
  },
  {
   "cell_type": "code",
   "execution_count": 39,
   "metadata": {},
   "outputs": [
    {
     "name": "stdout",
     "output_type": "stream",
     "text": [
      "The dataframe has 10 boroughs and 103 neighborhoods.\n"
     ]
    }
   ],
   "source": [
    "print('The dataframe has {} boroughs and {} neighborhoods.'.format(\n",
    "        len(df_tot['Borough'].unique()),\n",
    "        df_tot.shape[0]\n",
    "    )\n",
    ")"
   ]
  },
  {
   "cell_type": "markdown",
   "metadata": {},
   "source": [
    "### Create a map of Toronto with neighborhoods superimposed on top"
   ]
  },
  {
   "cell_type": "code",
   "execution_count": 40,
   "metadata": {},
   "outputs": [
    {
     "name": "stdout",
     "output_type": "stream",
     "text": [
      "The geograpical coordinate of Toronto are 25.7933414, -100.2740662.\n"
     ]
    }
   ],
   "source": [
    "# Get latitude and longitude coordinates of Toronto City\n",
    "\n",
    "address = 'Toronto, Canada'\n",
    "\n",
    "geolocator = Nominatim(user_agent=\"can_explorer\")\n",
    "location = geolocator.geocode(address)\n",
    "latitude = location.latitude\n",
    "longitude = location.longitude\n",
    "print('The geograpical coordinate of Toronto are {}, {}.'.format(latitude, longitude))"
   ]
  },
  {
   "cell_type": "code",
   "execution_count": 42,
   "metadata": {},
   "outputs": [
    {
     "data": {
      "text/html": [
       "<div style=\"width:100%;\"><div style=\"position:relative;width:100%;height:0;padding-bottom:60%;\"><span style=\"color:#565656\">Make this Notebook Trusted to load map: File -> Trust Notebook</span><iframe src=\"about:blank\" style=\"position:absolute;width:100%;height:100%;left:0;top:0;border:none !important;\" data-html=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 onload=\"this.contentDocument.open();this.contentDocument.write(atob(this.getAttribute('data-html')));this.contentDocument.close();\" allowfullscreen webkitallowfullscreen mozallowfullscreen></iframe></div></div>"
      ],
      "text/plain": [
       "<folium.folium.Map at 0x1b8425e6ec8>"
      ]
     },
     "execution_count": 42,
     "metadata": {},
     "output_type": "execute_result"
    }
   ],
   "source": [
    "# create map of Toronto using latitude and longitude values\n",
    "map_toronto = folium.Map(location=[latitude, longitude], zoom_start=10)\n",
    "\n",
    "# add markers to map\n",
    "for lat, lng, borough, neighborhood in zip(df_tot['Latitude'], df_tot['Longitude'], df_tot['Borough'], df_tot['Neighborhood']):\n",
    "    label = '{}, {}'.format(neighborhood, borough)\n",
    "    label = folium.Popup(label, parse_html=True)\n",
    "    folium.CircleMarker(\n",
    "        [lat, lng],\n",
    "        radius=5,\n",
    "        popup=label,\n",
    "        color='blue',\n",
    "        fill=True,\n",
    "        fill_color='#3186cc',\n",
    "        fill_opacity=0.7,\n",
    "        parse_html=False).add_to(map_toronto)  \n",
    "    \n",
    "map_toronto"
   ]
  },
  {
   "cell_type": "code",
   "execution_count": 43,
   "metadata": {},
   "outputs": [
    {
     "name": "stdout",
     "output_type": "stream",
     "text": [
      "Your credentails:\n",
      "CLIENT_ID: PXNGKJNS1KJ23E5I4MF1H1TW0K4FPJ50M1JZHXPJCN0QNN1Q\n",
      "CLIENT_SECRET:R1PH2KT1WRSKXTZ5J20AMRLGTU2HOB5UFCT0HP124YBS13CI\n"
     ]
    }
   ],
   "source": [
    "# Define Foursquare Credentials and Version\n",
    "\n",
    "LIMIT = 100\n",
    "\n",
    "CLIENT_ID = 'PXNGKJNS1KJ23E5I4MF1H1TW0K4FPJ50M1JZHXPJCN0QNN1Q' # your Foursquare ID\n",
    "CLIENT_SECRET = 'R1PH2KT1WRSKXTZ5J20AMRLGTU2HOB5UFCT0HP124YBS13CI' # your Foursquare Secret\n",
    "ACCESS_TOKEN = 'JVF5MPJBK1NWV355XZD0LC1USC2SEVS4LASKVPPJOSWAYODN' # your FourSquare Access Token\n",
    "VERSION = '20180604'\n",
    "print('Your credentails:')\n",
    "print('CLIENT_ID: ' + CLIENT_ID)\n",
    "print('CLIENT_SECRET:' + CLIENT_SECRET)"
   ]
  },
  {
   "cell_type": "markdown",
   "metadata": {},
   "source": [
    "### Explore all neighborhoods\n",
    "We will now explore neighborhood by neighborhood in the city of Toronto and retreive neighborhood's name, latitude and longitude values and all venues in the given neighborhood."
   ]
  },
  {
   "cell_type": "code",
   "execution_count": 44,
   "metadata": {},
   "outputs": [],
   "source": [
    "#create a function loop over all the neighborhoods in Toronto\n",
    "def getNearbyVenues(names, latitudes, longitudes, radius=500):\n",
    "    \n",
    "    venues_list=[]\n",
    "    for name, lat, lng in zip(names, latitudes, longitudes):\n",
    "        print(name)\n",
    "            \n",
    "        # create the API request URL\n",
    "        url = 'https://api.foursquare.com/v2/venues/explore?&client_id={}&client_secret={}&v={}&ll={},{}&radius={}&limit={}'.format(\n",
    "            CLIENT_ID, \n",
    "            CLIENT_SECRET, \n",
    "            VERSION, \n",
    "            lat, \n",
    "            lng, \n",
    "            radius, \n",
    "            LIMIT)\n",
    "            \n",
    "        # make the GET request\n",
    "        results = requests.get(url).json()[\"response\"]['groups'][0]['items']\n",
    "        \n",
    "        # return only relevant information for each nearby venue\n",
    "        venues_list.append([(\n",
    "            name, \n",
    "            lat, \n",
    "            lng, \n",
    "            v['venue']['name'], \n",
    "            v['venue']['location']['lat'], \n",
    "            v['venue']['location']['lng'],  \n",
    "            v['venue']['categories'][0]['name']) for v in results])\n",
    "\n",
    "    nearby_venues = pd.DataFrame([item for venue_list in venues_list for item in venue_list])\n",
    "    nearby_venues.columns = ['Neighborhood', \n",
    "                  'Neighborhood Latitude', \n",
    "                  'Neighborhood Longitude', \n",
    "                  'Venue', \n",
    "                  'Venue Latitude', \n",
    "                  'Venue Longitude', \n",
    "                  'Venue Category']\n",
    "    \n",
    "    return(nearby_venues)"
   ]
  },
  {
   "cell_type": "code",
   "execution_count": 47,
   "metadata": {},
   "outputs": [
    {
     "name": "stdout",
     "output_type": "stream",
     "text": [
      "Malvern, Rouge\n",
      "Rouge Hill, Port Union, Highland Creek\n",
      "Guildwood, Morningside, West Hill\n",
      "Woburn\n",
      "Cedarbrae\n",
      "Scarborough Village\n",
      "Kennedy Park, Ionview, East Birchmount Park\n",
      "Golden Mile, Clairlea, Oakridge\n",
      "Cliffside, Cliffcrest, Scarborough Village West\n",
      "Birch Cliff, Cliffside West\n",
      "Dorset Park, Wexford Heights, Scarborough Town Centre\n",
      "Wexford, Maryvale\n",
      "Agincourt\n",
      "Clarks Corners, Tam O'Shanter, Sullivan\n",
      "Milliken, Agincourt North, Steeles East, L'Amoreaux East\n",
      "Steeles West, L'Amoreaux West\n",
      "Upper Rouge\n",
      "Hillcrest Village\n",
      "Fairview, Henry Farm, Oriole\n",
      "Bayview Village\n",
      "York Mills, Silver Hills\n",
      "Willowdale, Newtonbrook\n",
      "Willowdale, Willowdale East\n",
      "York Mills West\n",
      "Willowdale, Willowdale West\n",
      "Parkwoods\n",
      "Don Mills\n",
      "Don Mills\n",
      "Bathurst Manor, Wilson Heights, Downsview North\n",
      "Northwood Park, York University\n",
      "Downsview\n",
      "Downsview\n",
      "Downsview\n",
      "Downsview\n",
      "Victoria Village\n",
      "Parkview Hill, Woodbine Gardens\n",
      "Woodbine Heights\n",
      "The Beaches\n",
      "Leaside\n",
      "Thorncliffe Park\n",
      "East Toronto, Broadview North (Old East York)\n",
      "The Danforth West, Riverdale\n",
      "India Bazaar, The Beaches West\n",
      "Studio District\n",
      "Lawrence Park\n",
      "Davisville North\n",
      "North Toronto West,  Lawrence Park\n",
      "Davisville\n",
      "Moore Park, Summerhill East\n",
      "Summerhill West, Rathnelly, South Hill, Forest Hill SE, Deer Park\n",
      "Rosedale\n",
      "St. James Town, Cabbagetown\n",
      "Church and Wellesley\n",
      "Regent Park, Harbourfront\n",
      "Garden District, Ryerson\n",
      "St. James Town\n",
      "Berczy Park\n",
      "Central Bay Street\n",
      "Richmond, Adelaide, King\n",
      "Harbourfront East, Union Station, Toronto Islands\n",
      "Toronto Dominion Centre, Design Exchange\n",
      "Commerce Court, Victoria Hotel\n",
      "Bedford Park, Lawrence Manor East\n",
      "Roselawn\n",
      "Forest Hill North & West, Forest Hill Road Park\n",
      "The Annex, North Midtown, Yorkville\n",
      "University of Toronto, Harbord\n",
      "Kensington Market, Chinatown, Grange Park\n",
      "CN Tower, King and Spadina, Railway Lands, Harbourfront West, Bathurst Quay, South Niagara, Island airport\n",
      "Stn A PO Boxes\n",
      "First Canadian Place, Underground city\n",
      "Lawrence Manor, Lawrence Heights\n",
      "Glencairn\n",
      "Humewood-Cedarvale\n",
      "Caledonia-Fairbanks\n",
      "Christie\n",
      "Dufferin, Dovercourt Village\n",
      "Little Portugal, Trinity\n",
      "Brockton, Parkdale Village, Exhibition Place\n",
      "North Park, Maple Leaf Park, Upwood Park\n",
      "Del Ray, Mount Dennis, Keelsdale and Silverthorn\n",
      "Runnymede, The Junction North\n",
      "High Park, The Junction South\n",
      "Parkdale, Roncesvalles\n",
      "Runnymede, Swansea\n",
      "Queen's Park, Ontario Provincial Government\n",
      "Canada Post Gateway Processing Centre\n",
      "Business reply mail Processing Centre, South Central Letter Processing Plant Toronto\n",
      "New Toronto, Mimico South, Humber Bay Shores\n",
      "Alderwood, Long Branch\n",
      "The Kingsway, Montgomery Road, Old Mill North\n",
      "Old Mill South, King's Mill Park, Sunnylea, Humber Bay, Mimico NE, The Queensway East, Royal York South East, Kingsway Park South East\n",
      "Mimico NW, The Queensway West, South of Bloor, Kingsway Park South West, Royal York South West\n",
      "Islington Avenue, Humber Valley Village\n",
      "West Deane Park, Princess Gardens, Martin Grove, Islington, Cloverdale\n",
      "Eringate, Bloordale Gardens, Old Burnhamthorpe, Markland Wood\n",
      "Humber Summit\n",
      "Humberlea, Emery\n",
      "Weston\n",
      "Westmount\n",
      "Kingsview Village, St. Phillips, Martin Grove Gardens, Richview Gardens\n",
      "South Steeles, Silverstone, Humbergate, Jamestown, Mount Olive, Beaumond Heights, Thistletown, Albion Gardens\n",
      "Northwest, West Humber - Clairville\n"
     ]
    }
   ],
   "source": [
    "# run the above function on each neighborhood and create a new dataframe called toronto_venues\n",
    "toronto_venues = getNearbyVenues(names=df_tot['Neighborhood'],\n",
    "                                   latitudes=df_tot['Latitude'],\n",
    "                                   longitudes=df_tot['Longitude'],\n",
    "                                  )"
   ]
  },
  {
   "cell_type": "code",
   "execution_count": 48,
   "metadata": {},
   "outputs": [
    {
     "name": "stdout",
     "output_type": "stream",
     "text": [
      "(2167, 7)\n"
     ]
    },
    {
     "data": {
      "text/html": [
       "<div>\n",
       "<style scoped>\n",
       "    .dataframe tbody tr th:only-of-type {\n",
       "        vertical-align: middle;\n",
       "    }\n",
       "\n",
       "    .dataframe tbody tr th {\n",
       "        vertical-align: top;\n",
       "    }\n",
       "\n",
       "    .dataframe thead th {\n",
       "        text-align: right;\n",
       "    }\n",
       "</style>\n",
       "<table border=\"1\" class=\"dataframe\">\n",
       "  <thead>\n",
       "    <tr style=\"text-align: right;\">\n",
       "      <th></th>\n",
       "      <th>Neighborhood</th>\n",
       "      <th>Neighborhood Latitude</th>\n",
       "      <th>Neighborhood Longitude</th>\n",
       "      <th>Venue</th>\n",
       "      <th>Venue Latitude</th>\n",
       "      <th>Venue Longitude</th>\n",
       "      <th>Venue Category</th>\n",
       "    </tr>\n",
       "  </thead>\n",
       "  <tbody>\n",
       "    <tr>\n",
       "      <td>0</td>\n",
       "      <td>Malvern, Rouge</td>\n",
       "      <td>43.806686</td>\n",
       "      <td>-79.194353</td>\n",
       "      <td>Wendy’s</td>\n",
       "      <td>43.807448</td>\n",
       "      <td>-79.199056</td>\n",
       "      <td>Fast Food Restaurant</td>\n",
       "    </tr>\n",
       "    <tr>\n",
       "      <td>1</td>\n",
       "      <td>Rouge Hill, Port Union, Highland Creek</td>\n",
       "      <td>43.784535</td>\n",
       "      <td>-79.160497</td>\n",
       "      <td>Royal Canadian Legion</td>\n",
       "      <td>43.782533</td>\n",
       "      <td>-79.163085</td>\n",
       "      <td>Bar</td>\n",
       "    </tr>\n",
       "    <tr>\n",
       "      <td>2</td>\n",
       "      <td>Rouge Hill, Port Union, Highland Creek</td>\n",
       "      <td>43.784535</td>\n",
       "      <td>-79.160497</td>\n",
       "      <td>SEBS Engineering Inc. (Sustainable Energy and ...</td>\n",
       "      <td>43.782371</td>\n",
       "      <td>-79.156820</td>\n",
       "      <td>Construction &amp; Landscaping</td>\n",
       "    </tr>\n",
       "    <tr>\n",
       "      <td>3</td>\n",
       "      <td>Guildwood, Morningside, West Hill</td>\n",
       "      <td>43.763573</td>\n",
       "      <td>-79.188711</td>\n",
       "      <td>RBC Royal Bank</td>\n",
       "      <td>43.766790</td>\n",
       "      <td>-79.191151</td>\n",
       "      <td>Bank</td>\n",
       "    </tr>\n",
       "    <tr>\n",
       "      <td>4</td>\n",
       "      <td>Guildwood, Morningside, West Hill</td>\n",
       "      <td>43.763573</td>\n",
       "      <td>-79.188711</td>\n",
       "      <td>G &amp; G Electronics</td>\n",
       "      <td>43.765309</td>\n",
       "      <td>-79.191537</td>\n",
       "      <td>Electronics Store</td>\n",
       "    </tr>\n",
       "  </tbody>\n",
       "</table>\n",
       "</div>"
      ],
      "text/plain": [
       "                             Neighborhood  Neighborhood Latitude  \\\n",
       "0                          Malvern, Rouge              43.806686   \n",
       "1  Rouge Hill, Port Union, Highland Creek              43.784535   \n",
       "2  Rouge Hill, Port Union, Highland Creek              43.784535   \n",
       "3       Guildwood, Morningside, West Hill              43.763573   \n",
       "4       Guildwood, Morningside, West Hill              43.763573   \n",
       "\n",
       "   Neighborhood Longitude                                              Venue  \\\n",
       "0              -79.194353                                            Wendy’s   \n",
       "1              -79.160497                              Royal Canadian Legion   \n",
       "2              -79.160497  SEBS Engineering Inc. (Sustainable Energy and ...   \n",
       "3              -79.188711                                     RBC Royal Bank   \n",
       "4              -79.188711                                  G & G Electronics   \n",
       "\n",
       "   Venue Latitude  Venue Longitude              Venue Category  \n",
       "0       43.807448       -79.199056        Fast Food Restaurant  \n",
       "1       43.782533       -79.163085                         Bar  \n",
       "2       43.782371       -79.156820  Construction & Landscaping  \n",
       "3       43.766790       -79.191151                        Bank  \n",
       "4       43.765309       -79.191537           Electronics Store  "
      ]
     },
     "execution_count": 48,
     "metadata": {},
     "output_type": "execute_result"
    }
   ],
   "source": [
    "# We will print the size of the new dataframe toronto_venues and see more about this dataframe\n",
    "print(toronto_venues.shape)\n",
    "toronto_venues.head()"
   ]
  },
  {
   "cell_type": "code",
   "execution_count": 51,
   "metadata": {},
   "outputs": [
    {
     "name": "stdout",
     "output_type": "stream",
     "text": [
      "There are 277 uniques categories of venue.\n"
     ]
    }
   ],
   "source": [
    "toronto_venues.groupby('Neighborhood').count()\n",
    "print('There are {} uniques categories of venue.'.format(len(toronto_venues['Venue Category'].unique())))"
   ]
  },
  {
   "cell_type": "code",
   "execution_count": null,
   "metadata": {},
   "outputs": [],
   "source": []
  }
 ],
 "metadata": {
  "kernelspec": {
   "display_name": "Python 3",
   "language": "python",
   "name": "python3"
  },
  "language_info": {
   "codemirror_mode": {
    "name": "ipython",
    "version": 3
   },
   "file_extension": ".py",
   "mimetype": "text/x-python",
   "name": "python",
   "nbconvert_exporter": "python",
   "pygments_lexer": "ipython3",
   "version": "3.7.4"
  }
 },
 "nbformat": 4,
 "nbformat_minor": 2
}
